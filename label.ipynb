{
 "cells": [
  {
   "cell_type": "code",
   "execution_count": 1,
   "metadata": {},
   "outputs": [],
   "source": [
    "import os\n",
    "import cv2\n",
    "import copy\n",
    "import numpy as np\n",
    "import matplotlib.pyplot as plt"
   ]
  },
  {
   "cell_type": "code",
   "execution_count": 3,
   "metadata": {},
   "outputs": [],
   "source": [
    "img_list = [\"./data/\" + i for i in os.listdir(\"./data\")]\n",
    "folder_list = [\"./train/\" + i for i in os.listdir(\"./train\")]"
   ]
  },
  {
   "cell_type": "code",
   "execution_count": null,
   "metadata": {},
   "outputs": [],
   "source": [
    "def empty(a):\n",
    "    pass\n",
    "\n",
    "def imgResize(image):\n",
    "    h, w, c = image.shape\n",
    "    w_max = 1280\n",
    "    h_max = 720\n",
    "    if h <= h_max & w <= w_max:\n",
    "        return image\n",
    "    elif w / h >= w_max / h_max:\n",
    "        return cv2.resize(image, (w_max, int(h * w_max / w)))\n",
    "    else:\n",
    "        return cv2.resize(image, (int(w * h_max / h), h_max))\n",
    "    \n",
    "def label(img_name, folder_name):\n",
    "    img = cv2.imread(img_name)\n",
    "    \n",
    "    x = y = w = 0\n",
    "    h, w, c = img.shape\n",
    "    cv2.namedWindow('TrackBar')\n",
    "    cv2.resizeWindow('TrackBar', 1280, 160)\n",
    "    cv2.createTrackbar('x', 'TrackBar', 0, h - 50, empty)\n",
    "    cv2.createTrackbar('y', 'TrackBar', 0, w - 50, empty)\n",
    "    cv2.createTrackbar('w', 'TrackBar', 30, 60, empty)\n",
    "    \n",
    "    while True:\n",
    "        x = cv2.getTrackbarPos('x', 'TrackBar')\n",
    "        y = cv2.getTrackbarPos('y', 'TrackBar')\n",
    "        w = cv2.getTrackbarPos('w', 'TrackBar')\n",
    "        output = copy.deepcopy(img)\n",
    "        cv2.rectangle(output, (y, x), (y+w, x+w), (255, 0, 255), 3)\n",
    "        cv2.imshow('mask', imgResize(output))\n",
    "        cv2.imshow('rec', cv2.resize(img[x:x+w+1, y:y+w+1], (100, 100)))\n",
    "        if(cv2.waitKey(10) == 27): # esc to switch to next image\n",
    "            break\n",
    "        \n",
    "    coord = open(folder_name + '/coord.txt', 'w')\n",
    "    coord.write(\"{} {} {}\".format(x, y, w))\n",
    "    coord.close()\n",
    "    \n",
    "    cv2.imwrite(folder_name + '/wally/wally.jpg', img[x:x+w+1, y:y+w+1])\n",
    "    \n",
    "    cv2.destroyAllWindows()\n",
    "    return x, y, w"
   ]
  },
  {
   "cell_type": "markdown",
   "metadata": {},
   "source": [
    "---\n",
    "### label Wally"
   ]
  },
  {
   "cell_type": "code",
   "execution_count": null,
   "metadata": {},
   "outputs": [],
   "source": [
    "for i, j in zip(img_list, folder_list):\n",
    "    x, y, w = label(i, j)"
   ]
  },
  {
   "cell_type": "markdown",
   "metadata": {},
   "source": [
    "---\n",
    "### random sample Not_Wally "
   ]
  },
  {
   "cell_type": "code",
   "execution_count": 4,
   "metadata": {},
   "outputs": [],
   "source": [
    "sample = 100\n",
    "for i, j in zip(img_list, folder_list):\n",
    "    img = cv2.imread(i)\n",
    "    h_max, w_max, c = img.shape\n",
    "    h = np.random.randint(h_max - 50, size = sample)\n",
    "    w = np.random.randint(w_max - 50, size = sample)\n",
    "    l = np.random.randint(30, 50, size = sample)\n",
    "    for k, x, y, wid in zip(np.arange(sample), h, w, l):\n",
    "        cv2.imwrite(j + '/not_wally/{:02d}.jpg'.format(k), img[x:x+wid+1, y:y+wid+1])"
   ]
  },
  {
   "cell_type": "markdown",
   "metadata": {},
   "source": [
    "---\n",
    "### Wally size"
   ]
  },
  {
   "cell_type": "code",
   "execution_count": 5,
   "metadata": {},
   "outputs": [
    {
     "data": {
      "image/png": "[encoded data removed]",
      "text/plain": [
       "<Figure size 432x288 with 1 Axes>"
      ]
     },
     "metadata": {
      "needs_background": "light"
     },
     "output_type": "display_data"
    }
   ],
   "source": [
    "sz = np.empty(len(folder_list))\n",
    "for n, i in enumerate(folder_list):\n",
    "    with open(i + '/coord.txt') as f:\n",
    "        for line in f:\n",
    "            array = np.array([int(x) for x in line.split()])\n",
    "            sz[n] = array[2]\n",
    "plot = plt.hist(sz)"
   ]
  }
 ],
 "metadata": {
  "interpreter": {
   "hash": "9b02d228b0deb9bd5deb88192194232067fb7f0761ef8eded4fa6ac3b1d9be68"
  },
  "kernelspec": {
   "display_name": "Python 3.8.8 64-bit ('base': conda)",
   "language": "python",
   "name": "python3"
  },
  "language_info": {
   "codemirror_mode": {
    "name": "ipython",
    "version": 3
   },
   "file_extension": ".py",
   "mimetype": "text/x-python",
   "name": "python",
   "nbconvert_exporter": "python",
   "pygments_lexer": "ipython3",
   "version": "3.8.8"
  },
  "orig_nbformat": 4
 },
 "nbformat": 4,
 "nbformat_minor": 2
}
